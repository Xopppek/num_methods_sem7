{
 "cells": [
  {
   "cell_type": "markdown",
   "metadata": {},
   "source": [
    "# Лабораторная работа №4б\n",
    "## Вариант №11\n",
    "Есть 2 бесконечные плоскости с параллельными прорезями (плоскости параллельны друг другу). Прорези проделаны с определенным периодом. От стенки к стенке течет жидкость. Построить векторное поле скорости.\n",
    "\n",
    "Начнем с того, что в силу бесконечности поскостей и периодичности прорезей, задача эффективно двумерная, причем в прямоугольнике (достаточно захватить один период стенки и прорези).\n",
    "\n",
    "Введем потенциал скорости $u$:\n",
    "\n",
    "$$ v = -\\text{grad} u  $$\n",
    "\n",
    "Жидкость будем предполагать несжимаемой, в таком случае уравнение неразрывности примет простой вид, выпишем постановку:\n",
    "\n",
    "\\begin{equation*}\n",
    "\\begin{cases}\n",
    "    \\Delta u = 0, \\ \\ 0 < x < H,\\ \\ 0 < y < l + p \\\\\n",
    "    \\displaystyle u_x(0, y) = -\\eta{(l - y)}v_0,\\ \\ u_x(H, y) = \\eta{(l-y)}v_0 \\\\\n",
    "    u(x, y + l + p) = u(x, y) \n",
    "\\end{cases}\n",
    "\\end{equation*}\n",
    "\n",
    "Здесь $H$ — расстояние между плоскостями, $l$ — ширина щели, а $p$ — расстояние между щелями.\n",
    "\n",
    "Оператор удачно подтянем из первой части лабораторной работы:\n",
    "\n",
    "$ \\displaystyle (Lu)_{i,j} = [i > 1] \\frac{u_{i,j} - u_{i-1, j}}{h_x^2} + [i < n_x] \\frac{u_{i,j} - u_{i+1,j}}{h_x^2} + [j > 1] \\frac{u_{i,j} - u_{i, j-1}}{h_y^2} + [j < n_y] \\frac{u_{i,j} - u_{i, j+1}}{h_y^2} +$\n",
    "\n",
    "$\\displaystyle \\ \\ \\ \\ \\ \\ \\ \\ \\ \\ \\ \\ \\ \\ + [j = 1]\\frac{u_{i, j} - u_{i, n_y}}{h_y^2} + [j = n_y]\\frac{u_{i,j} - u_{i, 1}}{h_y^2}$\n",
    "\n",
    "$\\displaystyle (F)_{i,j} = [i = 1]\\frac{\\varphi_{Lj}}{h_x} + [i = x_n]\\frac{\\varphi_{Rj}}{h_x}$"
   ]
  },
  {
   "cell_type": "code",
   "execution_count": 12,
   "metadata": {},
   "outputs": [],
   "source": [
    "import numpy as np\n",
    "from matplotlib import pyplot as plt\n",
    "from scipy import sparse as sp\n",
    "from scipy.sparse import linalg as LA\n",
    "%matplotlib inline"
   ]
  },
  {
   "cell_type": "code",
   "execution_count": 13,
   "metadata": {},
   "outputs": [],
   "source": [
    "H = 10\n",
    "l = 3\n",
    "p = 7\n",
    "v_0 = 10\n",
    "# таким образом будем решать задачу в квадрате 10 на 10"
   ]
  },
  {
   "cell_type": "code",
   "execution_count": 14,
   "metadata": {},
   "outputs": [],
   "source": [
    "def getL_csr(n_x, n_y, h_x, h_y):\n",
    "    # двумерный массив элементы которого равны  индексу ячейки\n",
    "    k = np.arange(n_x * n_y, dtype=int).reshape((n_x, n_y)) \n",
    "\n",
    "    I, J = np.meshgrid(np.arange(n_x), np.arange(n_y))\n",
    "    I, J = I.flatten(), J.flatten()\n",
    "\n",
    "    iC = k[I, J].flatten() # есть соседи снизу и сверху\n",
    "    iB = k[I, (J - 1) % n_y].flatten() # соседи снизу\n",
    "    iT = k[I, (J + 1) % n_y].flatten() # соседи сверху\n",
    "\n",
    "    iHR = k[:-1, :].flatten() # есть сосед справа\n",
    "    iR  = k[1: , :].flatten() # сосед справа\n",
    "\n",
    "    iHL = k[1:  , :].flatten() # есть сосед слева\n",
    "    iL  = k[:-1 , :].flatten() # сосед слева\n",
    "\n",
    "    R1, C1, V1 = iC, iC, np.full(iC.size, +2.0/h_y**2)\n",
    "    R2, C2, V2 = iC, iB, np.full(iC.size, -1.0/h_y**2)\n",
    "    R3, C3, V3 = iC, iT, np.full(iC.size, -1.0/h_y**2)\n",
    "\n",
    "    R4, C4, V4 = iHL, iHL, np.full(iHR.size, +1.0/h_x**2)\n",
    "    R5, C5, V5 = iHL, iL,  np.full(iHL.size, -1.0/h_x**2)\n",
    "\n",
    "    R6, C6, V6 = iHR, iHR, np.full(iHR.size, +1.0/h_x**2)\n",
    "    R7, C7, V7 = iHR, iR,  np.full(iHR.size, -1.0/h_x**2)\n",
    "\n",
    "    row = np.concatenate((R1, R2, R3, R4, R5, R6, R7))\n",
    "    col = np.concatenate((C1, C2, C3, C4, C5, C6, C7))\n",
    "    val = np.concatenate((V1, V2, V3, V4, V5, V6, V7))\n",
    "\n",
    "    return sp.csr_matrix((val, (row, col)))\n",
    "\n",
    "def phi_L(y):\n",
    "    return np.heaviside(l - y, 0) * v_0\n",
    "\n",
    "def phi_R(y):\n",
    "    return phi_L(y)\n",
    "\n",
    "def RHS(X, Y, h_x, h_y):\n",
    "    res = np.zeros_like(X)\n",
    "    res[0, :] += phi_L(Y[0, :]) / h_x\n",
    "    res[-1,:] += phi_R(Y[-1,:]) / h_x\n",
    "    return res - res.mean()"
   ]
  },
  {
   "cell_type": "code",
   "execution_count": 15,
   "metadata": {},
   "outputs": [],
   "source": [
    "h_0 = 0.1\n",
    "l_x, l_y = H, p + l\n",
    "n_x, n_y = int(np.round(l_x / h_0)), int(np.round(l_y / h_0))\n",
    "h_x, h_y = l_x / n_x, l_y / n_y\n",
    "x = np.linspace(h_x / 2, l_x - h_x / 2, n_x)\n",
    "y = np.linspace(h_y / 2, l_y - h_y / 2, n_y)\n",
    "X, Y = np.meshgrid(x, y, indexing='ij')\n",
    "\n",
    "L = getL_csr(n_x, n_y, h_x, h_y)\n",
    "F = RHS(X, Y, h_x, h_y).flatten()"
   ]
  },
  {
   "cell_type": "code",
   "execution_count": 16,
   "metadata": {},
   "outputs": [],
   "source": [
    "u_sp = LA.spsolve(L, F).reshape((n_x, n_y))\n",
    "u_sp -= u_sp.mean()"
   ]
  },
  {
   "cell_type": "code",
   "execution_count": 17,
   "metadata": {},
   "outputs": [
    {
     "data": {
      "image/png": "[encoded data removed]",
      "text/plain": [
       "<Figure size 640x480 with 1 Axes>"
      ]
     },
     "metadata": {},
     "output_type": "display_data"
    }
   ],
   "source": [
    "plt.imshow(u_sp.T, origin='lower', extent=(0, l_x, 0, l_y), aspect='auto')\n",
    "plt.show()"
   ]
  }
 ],
 "metadata": {
  "kernelspec": {
   "display_name": "Python 3",
   "language": "python",
   "name": "python3"
  },
  "language_info": {
   "codemirror_mode": {
    "name": "ipython",
    "version": 3
   },
   "file_extension": ".py",
   "mimetype": "text/x-python",
   "name": "python",
   "nbconvert_exporter": "python",
   "pygments_lexer": "ipython3",
   "version": "3.12.2"
  }
 },
 "nbformat": 4,
 "nbformat_minor": 2
}
