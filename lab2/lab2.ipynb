{
 "cells": [
  {
   "cell_type": "markdown",
   "metadata": {},
   "source": [
    "# Лабораторная работа №2\n",
    "Найти приближенное решение уравнения Пуассона в прямоугольной области. Для решения системы линейных уравнений использовать метод минимальных невязок.\n",
    "## Вариант №11\n",
    "Найти решение уравнения Пуассона с граничными условиями Неймана по оси $x$ и периодическими условиями вдоль оси $y$:\n",
    "\\begin{equation*}\n",
    "\\begin{cases}\n",
    "    \\Delta u = (9x-10)e^{-5x}\\sin{4y}, \\ \\ 0 < x < 1,\\ \\ 0 < y < \\pi \\\\\n",
    "    \\displaystyle u_x(0, y) = \\sin{4y},\\ \\ u_x(1, y) = -\\frac{4}{e^5}\\sin{4y} \\\\\n",
    "    u(x, y + \\pi) = u(x, y) \n",
    "\\end{cases}\n",
    "\\end{equation*}\n",
    "\n",
    "Точное решение:\n",
    "$$ u_0(x, y) = xe^{-5x}\\sin{4y} $$"
   ]
  },
  {
   "cell_type": "markdown",
   "metadata": {},
   "source": [
    "Обозначим $\\displaystyle \\varphi_L(y) = \\sin{4y}, \\ \\ \\varphi_R(y) = -\\frac{4}{e^5}\\sin{4y}, \\ \\ f(x, y) = (9x-10)e^{-5x}\\sin{4y}$\n",
    "\n",
    "Перейдем к разностной схеме:\n",
    "\n",
    "$ \\displaystyle (Lu)_{i,j} = [i > 1] \\frac{u_{i,j} - u_{i-1, j}}{h_x^2} + [i < n_x] \\frac{u_{i,j} - u_{i+1,j}}{h_x^2} + [j > 1] \\frac{u_{i,j} - u_{i, j-1}}{h_y^2} + [j < n_y] \\frac{u_{i,j} - u_{i, j+1}}{h_y^2} +$\n",
    "\n",
    "$\\displaystyle \\ \\ \\ \\ \\ \\ \\ \\ \\ \\ \\ \\ \\ \\ + [j = 1]\\frac{u_{i, j} - u_{i, n_y}}{h_y^2} + [j = n_y]\\frac{u_{i,j} - u_{i, 1}}{h_y^2}$\n",
    "\n",
    "$\\displaystyle (F)_{i,j} = f_{i,j} + [i = 1]\\frac{\\varphi_{Lj}}{h_x} + [i = x_n]\\frac{\\varphi_{Rj}}{h_x}$"
   ]
  },
  {
   "cell_type": "markdown",
   "metadata": {},
   "source": [
    "Импортируем необходимые библиотеки"
   ]
  },
  {
   "cell_type": "code",
   "execution_count": 132,
   "metadata": {},
   "outputs": [],
   "source": [
    "import numpy as np\n",
    "from matplotlib import pyplot as plt\n",
    "%matplotlib inline"
   ]
  },
  {
   "cell_type": "markdown",
   "metadata": {},
   "source": [
    "Зададим характерный размер, и получим сетку для решения задачи:"
   ]
  },
  {
   "cell_type": "code",
   "execution_count": 133,
   "metadata": {},
   "outputs": [],
   "source": [
    "h_0 = 0.05\n",
    "\n",
    "l_x, l_y = 1, np.pi\n",
    "n_x, n_y = int(np.round(l_x / h_0)), int(np.round(l_y / h_0))\n",
    "h_x, h_y = l_x / n_x, l_y / n_y\n",
    "x = np.linspace(h_x / 2, l_x - h_x / 2, n_x)\n",
    "y = np.linspace(h_y / 2, l_y - h_y / 2, n_y)\n",
    "X, Y = np.meshgrid(x, y, indexing='ij')"
   ]
  },
  {
   "cell_type": "markdown",
   "metadata": {},
   "source": [
    "Введем функции из задачи:"
   ]
  },
  {
   "cell_type": "code",
   "execution_count": 134,
   "metadata": {},
   "outputs": [],
   "source": [
    "def analitical(x, y):\n",
    "    return x * np.exp(-5 * x) * np.sin(4 * y)\n",
    "\n",
    "def f(x, y): \n",
    "    return (9 * x - 10) * np.exp(-5 * x) * np.sin(4 * y)\n",
    "\n",
    "def phi_L(y):\n",
    "    return np.sin(4 * y)\n",
    "\n",
    "def phi_R(y):\n",
    "    return -4 * np.exp(-5) * np.sin(4 * y)"
   ]
  },
  {
   "cell_type": "markdown",
   "metadata": {},
   "source": [
    "Введем функции для сеточного оператора и для правой части:"
   ]
  },
  {
   "cell_type": "code",
   "execution_count": 135,
   "metadata": {},
   "outputs": [],
   "source": [
    "def RHS(X, Y):\n",
    "    res = f(X, Y)\n",
    "    res[0, :] += phi_L(Y[0, :]) / h_x ** 2\n",
    "    res[-1,:] += phi_R(Y[-1,:]) / h_x ** 2\n",
    "    return res - res.sum() / (n_x + n_y) # нормировка\n",
    "\n",
    "def OpL(u):\n",
    "    res = np.zeros_like(u)\n",
    "    res[1:, :] += (u[1 :,:] - u[:-1,:]) / h_x ** 2 # i > 1\n",
    "    res[:-1,:] += (u[:-1,:] - u[1 :,:]) / h_x ** 2 # i < n_x\n",
    "    res[:, 1:] += (u[:, 1:] - u[:,:-1]) / h_y ** 2 # j > 1\n",
    "    res[:,:-1] += (u[:,:-1] - u[:,1 :]) / h_y ** 2 # j < n_y\n",
    "    res[:, 0] += (u[:, 0] - u[:,-1]) / h_y ** 2    # j = 1\n",
    "    res[:,-1] += (u[:,-1] - u[:, 0]) / h_y ** 2    # j = n_y\n",
    "    return res"
   ]
  },
  {
   "cell_type": "markdown",
   "metadata": {},
   "source": [
    "По заданию систему уравнений нужно решать при помощи метода минимальных невязок\n",
    "\n",
    "$$ \\frac{u^{k+1} - u^k}{\\tau^{k+1}} + Lu^k = F $$\n",
    "\n",
    "$$ r^k = Lu^k - F$$\n",
    "\n",
    "$$ \\tau^{k + 1} = \\frac{(Lr^k, r^k)}{||Lr^k||^2}$$\n",
    "\n",
    "$$ u^{k+1} = \\frac{(Lr^k, r^k)}{||Lr^k||^2} (F - Lu^k) + u^k$$"
   ]
  },
  {
   "cell_type": "code",
   "execution_count": 136,
   "metadata": {},
   "outputs": [],
   "source": [
    "u = X.copy() #np.ones_like(X) # начальное приближение\n",
    "# u -= u.sum() / (n_x + n_y)\n",
    "epsilon = 1e-6\n",
    "r = OpL(u) - RHS(X, Y)\n",
    "\n",
    "while np.abs((r**2).sum() > epsilon):\n",
    "    u += (OpL(r) * r).sum() / (OpL(r) ** 2).sum() * (RHS(X, Y) - OpL(u))\n",
    "    #u -= u.sum() / (n_x + n_y)\n",
    "    r = OpL(u) - RHS(X, Y)"
   ]
  },
  {
   "cell_type": "code",
   "execution_count": 137,
   "metadata": {},
   "outputs": [
    {
     "data": {
      "image/png": "[encoded data removed]",
      "text/plain": [
       "<Figure size 1000x500 with 2 Axes>"
      ]
     },
     "metadata": {},
     "output_type": "display_data"
    }
   ],
   "source": [
    "fig = plt.figure(figsize=(10, 5))\n",
    "ax1 = fig.add_subplot(121)\n",
    "im1 = ax1.imshow(u.T, origin='lower', cmap='hot', extent=(0, l_x, 0, l_y), aspect='auto')\n",
    "ax1.set_xlabel('x')\n",
    "ax1.set_ylabel('y')\n",
    "ax1.set_title(f'Численное решение $h_0 = ${h_0}')\n",
    "\n",
    "ax2 = fig.add_subplot(122)\n",
    "im2 = ax2.imshow(analitical(X, Y).T, origin='lower', cmap='hot', extent=(0, l_x, 0, l_y), aspect='auto')\n",
    "ax2.set_xlabel('x')\n",
    "ax2.set_ylabel('y')\n",
    "ax2.set_title(\"Аналитическое решение\")\n",
    "\n",
    "plt.show()"
   ]
  }
 ],
 "metadata": {
  "kernelspec": {
   "display_name": "Python 3",
   "language": "python",
   "name": "python3"
  },
  "language_info": {
   "codemirror_mode": {
    "name": "ipython",
    "version": 3
   },
   "file_extension": ".py",
   "mimetype": "text/x-python",
   "name": "python",
   "nbconvert_exporter": "python",
   "pygments_lexer": "ipython3",
   "version": "3.12.2"
  }
 },
 "nbformat": 4,
 "nbformat_minor": 2
}
