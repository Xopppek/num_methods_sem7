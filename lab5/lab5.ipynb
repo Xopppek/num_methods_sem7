{
 "cells": [
  {
   "cell_type": "markdown",
   "metadata": {},
   "source": [
    "# Лабораторная работа №5\n",
    "\n",
    "Провести моделирование уравнения параболического типа.\n",
    "\n",
    "## Вариант №11\n",
    "\n",
    "Имеется бесконечная (периодическое замыкание вдоль $y$) композитная пластина толщины $H$. Основной материал пластины (матрица) имеет теплоемкость $c_0$, дополнительный материал (наполнитель) в форме небольших гранул имеет очень высокую теплоемкость $c_1 \\gg c_0$. Плотность $\\rho$ и теплопроводность $\\kappa$ двух материалов совпадают. Левая граница пластины теплоизолирована, а правую границу пластины нагревают постоянным тепловым потоком, равномерно распределенным по границе. Смоделировать распространение тепла в пастине.\n"
   ]
  },
  {
   "cell_type": "markdown",
   "metadata": {},
   "source": [
    "Выпишем постановку. Задачу будем решать в квадрате $[0, H] \\times [0, H]$.\n",
    "\n",
    "\\begin{equation*}\n",
    "\\begin{cases}\n",
    "    c\\rho u_t = \\text{div}(\\kappa \\nabla u), \\ \\ 0 < x < H,\\ \\ 0 < y < H \\\\\n",
    "    u_x(0, y) = 0,\\ \\ u_x(H, y) = q \\\\\n",
    "    u(x, y + H) = u(x, y) \n",
    "\\end{cases}\n",
    "\\end{equation*}\n",
    "\n",
    "Выпишем сеточный оператор (как и везде ранее будем использовать метод конечных объемов):\n",
    "\n",
    "$ \\displaystyle (Lu)_{i,j} = \\Big([i > 1] \\frac{u_{i,j} - u_{i-1, j}}{h_x^2} + [i < n_x] \\frac{u_{i,j} - u_{i+1,j}}{h_x^2} + [j > 1] \\frac{u_{i,j} - u_{i, j-1}}{h_y^2} + [j < n_y] \\frac{u_{i,j} - u_{i, j+1}}{h_y^2} +$\n",
    "\n",
    "$\\displaystyle \\ \\ \\ \\ \\ \\ \\ \\ \\ \\ \\ \\ \\ \\ + [j = 1]\\frac{u_{i, j} - u_{i, n_y}}{h_y^2} + [j = n_y]\\frac{u_{i,j} - u_{i, 1}}{h_y^2} \\Big)$\n",
    "\n",
    "$\\displaystyle (F)_{i,j} = 0 + [i = x_n]\\frac{q}{h_x}$\n",
    "\n",
    "Теперь выпишем схему Кранка-Николсон:\n",
    "\n",
    "$$ P \\frac{u^{(n+1)} - u^{(n)}}{\\tau} + (1 - \\nu)Lu^{(n)} + \\nu Lu^{(n+1)} = F(t^{(n)} + \\nu \\tau), \\ \\ \\nu \\in [0, 1]$$\n",
    "\n",
    "$ P$ — диагональная матрица коэффициентов $c\\rho$ в ячейках. Так как по условию задачи вкрапления гранул мелкие, и $c_1 \\gg c_0$, в некоторых отдельных ячейках значение будет просто $c_1$. Для заполнения будем генерировать случайную матрицу."
   ]
  },
  {
   "cell_type": "code",
   "execution_count": 94,
   "metadata": {},
   "outputs": [],
   "source": [
    "import numpy as np\n",
    "from matplotlib import pyplot as plt\n",
    "from scipy import sparse as sp\n",
    "from scipy.sparse import linalg as LA\n",
    "from IPython.display import clear_output\n",
    "%matplotlib inline"
   ]
  },
  {
   "cell_type": "code",
   "execution_count": 95,
   "metadata": {},
   "outputs": [],
   "source": [
    "H = 10\n",
    "c_0 = 130 # как у свинца\n",
    "c_1 = 1020 # как у магния\n",
    "rho = 11000 # взял чуть меньше чем у свинца \n",
    "kappa = 50 # взял чуть больше чем у свинца\n",
    "q = -10000 # плотность потока, взял произвольной\n",
    "nu = 0.5\n",
    "\n",
    "def RHS(X, Y, h_x, h_y):\n",
    "    res = np.zeros_like(X, dtype=float)\n",
    "    res[-1,:] += q / h_x\n",
    "    return res - res.mean()"
   ]
  },
  {
   "cell_type": "code",
   "execution_count": 96,
   "metadata": {},
   "outputs": [],
   "source": [
    "def getL_csr(n_x, n_y, h_x, h_y):\n",
    "    # двумерный массив элементы которого равны  индексу ячейки\n",
    "    k = np.arange(n_x * n_y, dtype=int).reshape((n_x, n_y)) \n",
    "\n",
    "    I, J = np.meshgrid(np.arange(n_x), np.arange(n_y))\n",
    "    I, J = I.flatten(), J.flatten()\n",
    "\n",
    "    iC = k[I, J].flatten() # есть соседи снизу и сверху\n",
    "    iB = k[I, (J - 1) % n_y].flatten() # соседи снизу\n",
    "    iT = k[I, (J + 1) % n_y].flatten() # соседи сверху\n",
    "\n",
    "    iHR = k[:-1, :].flatten() # есть сосед справа\n",
    "    iR  = k[1: , :].flatten() # сосед справа\n",
    "\n",
    "    iHL = k[1:  , :].flatten() # есть сосед слева\n",
    "    iL  = k[:-1 , :].flatten() # сосед слева\n",
    "\n",
    "    R1, C1, V1 = iC, iC, np.full(iC.size, +2.0/h_y**2)\n",
    "    R2, C2, V2 = iC, iB, np.full(iC.size, -1.0/h_y**2)\n",
    "    R3, C3, V3 = iC, iT, np.full(iC.size, -1.0/h_y**2)\n",
    "\n",
    "    R4, C4, V4 = iHL, iHL, np.full(iHR.size, +1.0/h_x**2)\n",
    "    R5, C5, V5 = iHL, iL,  np.full(iHL.size, -1.0/h_x**2)\n",
    "\n",
    "    R6, C6, V6 = iHR, iHR, np.full(iHR.size, +1.0/h_x**2)\n",
    "    R7, C7, V7 = iHR, iR,  np.full(iHR.size, -1.0/h_x**2)\n",
    "\n",
    "    row = np.concatenate((R1, R2, R3, R4, R5, R6, R7))\n",
    "    col = np.concatenate((C1, C2, C3, C4, C5, C6, C7))\n",
    "    val = np.concatenate((V1, V2, V3, V4, V5, V6, V7))\n",
    "\n",
    "    return sp.csr_matrix((val, (row, col)))"
   ]
  },
  {
   "cell_type": "code",
   "execution_count": 97,
   "metadata": {},
   "outputs": [],
   "source": [
    "h_0 = 0.1\n",
    "tau = 2 * h_0\n",
    "l_x, l_y = 1, np.pi\n",
    "n_x, n_y = int(np.round(H / h_0)), int(np.round(H / h_0))\n",
    "h_x, h_y = H / n_x, H / n_y\n",
    "x = np.linspace(h_x / 2, H - h_x / 2, n_x)\n",
    "y = np.linspace(h_y / 2, H - h_y / 2, n_y)\n",
    "X, Y = np.meshgrid(x, y, indexing='ij')\n",
    "\n",
    "L = getL_csr(n_x, n_y, h_x, h_y)\n",
    "F = RHS(X, Y, h_x, h_y).flatten()"
   ]
  },
  {
   "cell_type": "markdown",
   "metadata": {},
   "source": [
    "Тут воспользуемся магией, и сгенерируем случайную матрицу для заполнения матрицы $P$:"
   ]
  },
  {
   "cell_type": "code",
   "execution_count": 98,
   "metadata": {},
   "outputs": [
    {
     "data": {
      "image/png": "[encoded data removed]",
      "text/plain": [
       "<Figure size 640x480 with 1 Axes>"
      ]
     },
     "metadata": {},
     "output_type": "display_data"
    }
   ],
   "source": [
    "np.random.seed(11)\n",
    "\n",
    "P = np.full((n_x, n_y), c_0 * rho)\n",
    "P[np.random.choice([True, False], size=(n_x, n_y))] = c_1 * rho\n",
    "\n",
    "plt.imshow(P.T)\n",
    "plt.show()"
   ]
  },
  {
   "cell_type": "code",
   "execution_count": 99,
   "metadata": {},
   "outputs": [],
   "source": [
    "P = np.diag(P.ravel())"
   ]
  },
  {
   "cell_type": "markdown",
   "metadata": {},
   "source": [
    "Вернемся к численной схеме. Получим систему линейных уравнений:\n",
    "\n",
    "$$ A = E + \\tau \\nu P^{-1} L, \\ \\ B = E - \\tau (1-\\nu)P^{-1} L, \\ \\ C = \\tau P^{-1}F $$\n",
    "\n",
    "$$ Au^{(n+1)} = Bu^{(n)} + C$$\n",
    "\n",
    "Тут пользуемся очень удобным фактом, что F у нас в задаче не зависит от времени."
   ]
  },
  {
   "cell_type": "code",
   "execution_count": 100,
   "metadata": {},
   "outputs": [],
   "source": [
    "P_inv = np.diag(1 / np.diag(P)) # пользуемся диагональностью для поиска обратной матрицы\n",
    "A = np.eye(n_x * n_y) + tau * nu * P_inv @ L\n",
    "B = np.eye(n_x * n_y) - tau * (1 - nu) * P_inv @ L\n",
    "C = tau * P_inv @ F"
   ]
  },
  {
   "cell_type": "markdown",
   "metadata": {},
   "source": [
    "В ячейке ниже будет проигрываться анимация, ее придется запустить."
   ]
  },
  {
   "cell_type": "code",
   "execution_count": 103,
   "metadata": {},
   "outputs": [
    {
     "data": {
      "image/png": "[encoded data removed]",
      "text/plain": [
       "<Figure size 640x480 with 2 Axes>"
      ]
     },
     "metadata": {},
     "output_type": "display_data"
    }
   ],
   "source": [
    "t_end = 300\n",
    "u = np.ones(n_x * n_y) # положим начальную температуру константой\n",
    "drawing_pause = 5\n",
    "vmin = 1\n",
    "vmax = 3\n",
    "\n",
    "for i in range(int(t_end / tau)):\n",
    "    u, _ = LA.cg(A, B @ u + C)\n",
    "    if i % drawing_pause == 0:\n",
    "        clear_output(True)\n",
    "        plt.imshow(u.reshape(n_x, n_y).T, cmap='hot', vmin=vmin, vmax=vmax)\n",
    "        plt.colorbar()\n",
    "        plt.xlabel('x')\n",
    "        plt.ylabel('y')\n",
    "        plt.show()"
   ]
  },
  {
   "cell_type": "markdown",
   "metadata": {},
   "source": [
    "Гранулы ожидаемо програваются медленнее, чем остальная часть материала."
   ]
  }
 ],
 "metadata": {
  "kernelspec": {
   "display_name": "Python 3",
   "language": "python",
   "name": "python3"
  },
  "language_info": {
   "codemirror_mode": {
    "name": "ipython",
    "version": 3
   },
   "file_extension": ".py",
   "mimetype": "text/x-python",
   "name": "python",
   "nbconvert_exporter": "python",
   "pygments_lexer": "ipython3",
   "version": "3.12.2"
  }
 },
 "nbformat": 4,
 "nbformat_minor": 2
}
